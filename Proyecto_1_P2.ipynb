{
  "nbformat": 4,
  "nbformat_minor": 0,
  "metadata": {
    "colab": {
      "name": "Proyecto 1_P2.ipynb",
      "provenance": [],
      "authorship_tag": "ABX9TyPyuT8pHbqKzxn6X54J20/V",
      "include_colab_link": true
    },
    "kernelspec": {
      "name": "python3",
      "display_name": "Python 3"
    },
    "language_info": {
      "name": "python"
    }
  },
  "cells": [
    {
      "cell_type": "markdown",
      "metadata": {
        "id": "view-in-github",
        "colab_type": "text"
      },
      "source": [
        "<a href=\"https://colab.research.google.com/github/HaxelPG/Proyectos_Python/blob/main/Proyecto_1_P2.ipynb\" target=\"_parent\"><img src=\"https://colab.research.google.com/assets/colab-badge.svg\" alt=\"Open In Colab\"/></a>"
      ]
    },
    {
      "cell_type": "code",
      "source": [
        "diccionariosueldos={}\n",
        "ingresasueldo=\"si\"\n",
        "while(ingresasueldo==\"si\"):\n",
        "  nombre=input(\"Ingrese nombre:\")     #solicitando nombre del cliente\n",
        "  sueldo=float(input(f\"Ingrese el sueldo de {nombre}:\"))\n",
        "  diccionariosueldos[nombre]=sueldo\n",
        "  ingresasueldo=input(\"¿Desea ingresar otro sueldo? (si) (no):\")\n",
        "print(diccionariosueldos)"
      ],
      "metadata": {
        "colab": {
          "base_uri": "https://localhost:8080/"
        },
        "id": "7sE-BVe4Ww0y",
        "outputId": "576f1ac9-9b6f-4fa5-d3d6-9f31622e2bfc"
      },
      "execution_count": null,
      "outputs": [
        {
          "output_type": "stream",
          "name": "stdout",
          "text": [
            "Ingrese nombre:Nicole\n",
            "Ingrese el sueldo de Nicole:1200\n",
            "¿Desea ingresar otro sueldo? (si) (no):si\n",
            "Ingrese nombre:Brissa\n",
            "Ingrese el sueldo de Brissa:5478\n",
            "¿Desea ingresar otro sueldo? (si) (no):si\n",
            "Ingrese nombre:Haxel\n",
            "Ingrese el sueldo de Haxel:1246\n",
            "¿Desea ingresar otro sueldo? (si) (no):si\n",
            "Ingrese nombre:Segunda\n",
            "Ingrese el sueldo de Segunda:3458\n",
            "¿Desea ingresar otro sueldo? (si) (no):si\n",
            "Ingrese nombre:Georgina\n",
            "Ingrese el sueldo de Georgina:3880\n",
            "¿Desea ingresar otro sueldo? (si) (no):si\n",
            "Ingrese nombre:Jordan\n",
            "Ingrese el sueldo de Jordan:2470\n",
            "¿Desea ingresar otro sueldo? (si) (no):no\n",
            "{'Nicole': 1200.0, 'Brissa': 5478.0, 'Haxel': 1246.0, 'Segunda': 3458.0, 'Georgina': 3880.0, 'Jordan': 2470.0}\n"
          ]
        }
      ]
    },
    {
      "cell_type": "code",
      "source": [
        "#Calculando la suma de los sueldo ingresados\n",
        "suma=0\n",
        "for i in diccionariosueldos:\n",
        "    remuneracion=diccionariosueldos.get(i)\n",
        "    suma=suma+remuneracion\n",
        "suma"
      ],
      "metadata": {
        "colab": {
          "base_uri": "https://localhost:8080/"
        },
        "id": "tfmAs8Blcqs_",
        "outputId": "f6c7ba60-eafd-417e-f538-45c8914ad97a"
      },
      "execution_count": null,
      "outputs": [
        {
          "output_type": "execute_result",
          "data": {
            "text/plain": [
              "17732.0"
            ]
          },
          "metadata": {},
          "execution_count": 46
        }
      ]
    },
    {
      "cell_type": "code",
      "source": [
        "#Obtenemos la media de los sueldo dividiendo la suma de los elementos del diccionario y la cantidad de elementos del diccionario\n",
        "mediasueldos=suma/len(diccionariosueldos)\n",
        "print(f'El sueldo promedio es: {mediasueldos}')"
      ],
      "metadata": {
        "colab": {
          "base_uri": "https://localhost:8080/"
        },
        "id": "fWvwpybrf2f9",
        "outputId": "2588cb0d-1ee9-4840-c2be-f1168ef7e2c4"
      },
      "execution_count": null,
      "outputs": [
        {
          "output_type": "stream",
          "name": "stdout",
          "text": [
            "El sueldo promedio es: 2955.3333333333335\n"
          ]
        }
      ]
    },
    {
      "cell_type": "code",
      "source": [
        "#Guardando los valores del diccionario de sueldos en una lista \"salary\"\n",
        "salary=list(diccionariosueldos.values())\n",
        "salary"
      ],
      "metadata": {
        "colab": {
          "base_uri": "https://localhost:8080/"
        },
        "id": "L-IPxfwMgJZb",
        "outputId": "2929ae77-e973-4f7a-9534-9583983f58db"
      },
      "execution_count": null,
      "outputs": [
        {
          "output_type": "execute_result",
          "data": {
            "text/plain": [
              "[1200.0, 5478.0, 1246.0, 3458.0, 3880.0, 2470.0]"
            ]
          },
          "metadata": {},
          "execution_count": 49
        }
      ]
    },
    {
      "cell_type": "code",
      "source": [
        "#Encontrando el sueldo mínimo y máximo\n",
        "max_sueldo=max(salary)\n",
        "min_sueldo=min(salary)\n",
        "print(f'El sueldo máximo es: {max_sueldo}')\n",
        "print(f'El sueldo mínimo es: {min_sueldo}')"
      ],
      "metadata": {
        "colab": {
          "base_uri": "https://localhost:8080/"
        },
        "id": "_OWeZ5lQh80r",
        "outputId": "0902bb45-300e-495b-cba7-de0e52e24860"
      },
      "execution_count": null,
      "outputs": [
        {
          "output_type": "stream",
          "name": "stdout",
          "text": [
            "El sueldo máximo es: 5478.0\n",
            "El sueldo mínimo es: 1200.0\n"
          ]
        }
      ]
    },
    {
      "cell_type": "code",
      "source": [
        "diccionariosueldos"
      ],
      "metadata": {
        "colab": {
          "base_uri": "https://localhost:8080/"
        },
        "id": "knWXm7PYl9NH",
        "outputId": "eb9135bc-9cf6-46f1-eb99-ddd31c8afc98"
      },
      "execution_count": null,
      "outputs": [
        {
          "output_type": "execute_result",
          "data": {
            "text/plain": [
              "{'Brissa': 5478.0,\n",
              " 'Georgina': 3880.0,\n",
              " 'Haxel': 1246.0,\n",
              " 'Jordan': 2470.0,\n",
              " 'Nicole': 1200.0,\n",
              " 'Segunda': 3458.0}"
            ]
          },
          "metadata": {},
          "execution_count": 62
        }
      ]
    },
    {
      "cell_type": "code",
      "source": [
        "#Señalando el nombre de la persona con el máximo y mínimo sueldo con su respectiva remuneración\n",
        "list_of_key = list(diccionariosueldos.keys())  #Guardando en una lista los keys del dicionario de sueldos\n",
        "list_of_value = list(diccionariosueldos.values()) #Guardando en una lista los valores del dicionario de sueldos\n",
        " \n",
        "position1= list_of_value.index(max_sueldo)\n",
        "person1=list_of_key[position1]\n",
        "position2= list_of_value.index(min_sueldo)\n",
        "person2=list_of_key[position2]\n",
        "print(f'La persona con el sueldo máximo es: {person1}, con una remuneración de {max_sueldo} soles')\n",
        "print(f'La persona con el sueldo mínimo es: {person2}, con una remuneración de {min_sueldo} soles')"
      ],
      "metadata": {
        "colab": {
          "base_uri": "https://localhost:8080/"
        },
        "id": "poe5kLB1mKfa",
        "outputId": "c81ba366-3065-40f8-a1ab-11fdbdd072be"
      },
      "execution_count": null,
      "outputs": [
        {
          "output_type": "stream",
          "name": "stdout",
          "text": [
            "La persona con el sueldo máximo es: Brissa, con una remuneración de 5478.0 soles\n",
            "La persona con el sueldo mínimo es: Nicole, con una remuneración de 1200.0 soles\n"
          ]
        }
      ]
    },
    {
      "cell_type": "code",
      "source": [
        "#Serie con el sueldo mínimo, sueldo máximo y la media de los sueldos\n",
        "listafinal=[min_sueldo,max_sueldo,mediasueldos]\n",
        "listafinal"
      ],
      "metadata": {
        "colab": {
          "base_uri": "https://localhost:8080/"
        },
        "id": "r0YKFSKVqHx_",
        "outputId": "37dced24-4d39-4e27-f340-e1e9af0461c4"
      },
      "execution_count": null,
      "outputs": [
        {
          "output_type": "execute_result",
          "data": {
            "text/plain": [
              "[1200.0, 5478.0, 2955.3333333333335]"
            ]
          },
          "metadata": {},
          "execution_count": 99
        }
      ]
    }
  ]
}